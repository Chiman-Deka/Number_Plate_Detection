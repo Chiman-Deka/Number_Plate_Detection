{
 "cells": [
  {
   "cell_type": "code",
   "execution_count": 1,
   "id": "5908c756",
   "metadata": {},
   "outputs": [
    {
     "name": "stdout",
     "output_type": "stream",
     "text": [
      "Requirement already satisfied: easyocr in c:\\users\\chiman deka\\appdata\\local\\programs\\python\\python39\\lib\\site-packages (1.4.1)\n",
      "Requirement already satisfied: Pillow<8.3.0 in c:\\users\\chiman deka\\appdata\\local\\programs\\python\\python39\\lib\\site-packages (from easyocr) (8.2.0)\n",
      "Requirement already satisfied: torch in c:\\users\\chiman deka\\appdata\\local\\programs\\python\\python39\\lib\\site-packages (from easyocr) (1.10.2)\n",
      "Requirement already satisfied: PyYAML in c:\\users\\chiman deka\\appdata\\local\\programs\\python\\python39\\lib\\site-packages (from easyocr) (6.0)\n",
      "Requirement already satisfied: python-bidi in c:\\users\\chiman deka\\appdata\\local\\programs\\python\\python39\\lib\\site-packages (from easyocr) (0.4.2)\n",
      "Requirement already satisfied: scipy in c:\\users\\chiman deka\\appdata\\local\\programs\\python\\python39\\lib\\site-packages (from easyocr) (1.7.0)\n",
      "Requirement already satisfied: torchvision>=0.5 in c:\\users\\chiman deka\\appdata\\local\\programs\\python\\python39\\lib\\site-packages (from easyocr) (0.11.3)\n",
      "Requirement already satisfied: opencv-python-headless in c:\\users\\chiman deka\\appdata\\local\\programs\\python\\python39\\lib\\site-packages (from easyocr) (4.5.5.62)\n",
      "Requirement already satisfied: numpy in c:\\users\\chiman deka\\appdata\\local\\programs\\python\\python39\\lib\\site-packages (from easyocr) (1.21.1)\n",
      "Requirement already satisfied: scikit-image in c:\\users\\chiman deka\\appdata\\local\\programs\\python\\python39\\lib\\site-packages (from easyocr) (0.19.2)\n",
      "Requirement already satisfied: typing-extensions in c:\\users\\chiman deka\\appdata\\local\\programs\\python\\python39\\lib\\site-packages (from torch->easyocr) (4.1.1)\n",
      "Requirement already satisfied: six in c:\\users\\chiman deka\\appdata\\local\\programs\\python\\python39\\lib\\site-packages (from python-bidi->easyocr) (1.15.0)\n",
      "Requirement already satisfied: networkx>=2.2 in c:\\users\\chiman deka\\appdata\\local\\programs\\python\\python39\\lib\\site-packages (from scikit-image->easyocr) (2.7.1)\n",
      "Requirement already satisfied: imageio>=2.4.1 in c:\\users\\chiman deka\\appdata\\local\\programs\\python\\python39\\lib\\site-packages (from scikit-image->easyocr) (2.9.0)\n",
      "Requirement already satisfied: packaging>=20.0 in c:\\users\\chiman deka\\appdata\\local\\programs\\python\\python39\\lib\\site-packages (from scikit-image->easyocr) (21.0)\n",
      "Requirement already satisfied: PyWavelets>=1.1.1 in c:\\users\\chiman deka\\appdata\\local\\programs\\python\\python39\\lib\\site-packages (from scikit-image->easyocr) (1.2.0)\n",
      "Requirement already satisfied: tifffile>=2019.7.26 in c:\\users\\chiman deka\\appdata\\local\\programs\\python\\python39\\lib\\site-packages (from scikit-image->easyocr) (2022.2.9)\n",
      "Requirement already satisfied: pyparsing>=2.0.2 in c:\\users\\chiman deka\\appdata\\local\\programs\\python\\python39\\lib\\site-packages (from packaging>=20.0->scikit-image->easyocr) (2.4.7)\n"
     ]
    },
    {
     "name": "stderr",
     "output_type": "stream",
     "text": [
      "WARNING: You are using pip version 21.1.3; however, version 22.0.4 is available.\n",
      "You should consider upgrading via the 'c:\\users\\chiman deka\\appdata\\local\\programs\\python\\python39\\python.exe -m pip install --upgrade pip' command.\n"
     ]
    },
    {
     "name": "stdout",
     "output_type": "stream",
     "text": [
      "Requirement already satisfied: imutils in c:\\users\\chiman deka\\appdata\\local\\programs\\python\\python39\\lib\\site-packages (0.5.4)\n"
     ]
    },
    {
     "name": "stderr",
     "output_type": "stream",
     "text": [
      "WARNING: You are using pip version 21.1.3; however, version 22.0.4 is available.\n",
      "You should consider upgrading via the 'c:\\users\\chiman deka\\appdata\\local\\programs\\python\\python39\\python.exe -m pip install --upgrade pip' command.\n"
     ]
    }
   ],
   "source": [
    "!pip install easyocr\n",
    "!pip install imutils"
   ]
  },
  {
   "cell_type": "code",
   "execution_count": 2,
   "id": "1579f91f",
   "metadata": {},
   "outputs": [
    {
     "ename": "ImportError",
     "evalue": "cannot import name '_registerMatType' from 'cv2.cv2' (c:\\users\\chiman deka\\appdata\\local\\programs\\python\\python39\\lib\\site-packages\\cv2\\cv2.cp39-win_amd64.pyd)",
     "output_type": "error",
     "traceback": [
      "\u001b[1;31m---------------------------------------------------------------------------\u001b[0m",
      "\u001b[1;31mImportError\u001b[0m                               Traceback (most recent call last)",
      "\u001b[1;32mC:\\Users\\CHIMAN~1\\AppData\\Local\\Temp/ipykernel_19808/3660934739.py\u001b[0m in \u001b[0;36m<module>\u001b[1;34m\u001b[0m\n\u001b[1;32m----> 1\u001b[1;33m \u001b[1;32mimport\u001b[0m \u001b[0mcv2\u001b[0m\u001b[1;33m\u001b[0m\u001b[1;33m\u001b[0m\u001b[0m\n\u001b[0m\u001b[0;32m      2\u001b[0m \u001b[1;32mfrom\u001b[0m \u001b[0mmatplotlib\u001b[0m \u001b[1;32mimport\u001b[0m \u001b[0mpyplot\u001b[0m \u001b[1;32mas\u001b[0m \u001b[0mplt\u001b[0m\u001b[1;33m\u001b[0m\u001b[1;33m\u001b[0m\u001b[0m\n\u001b[0;32m      3\u001b[0m \u001b[1;32mimport\u001b[0m \u001b[0mnumpy\u001b[0m \u001b[1;32mas\u001b[0m \u001b[0mnp\u001b[0m\u001b[1;33m\u001b[0m\u001b[1;33m\u001b[0m\u001b[0m\n\u001b[0;32m      4\u001b[0m \u001b[1;32mimport\u001b[0m \u001b[0mimutils\u001b[0m\u001b[1;33m\u001b[0m\u001b[1;33m\u001b[0m\u001b[0m\n\u001b[0;32m      5\u001b[0m \u001b[1;32mimport\u001b[0m \u001b[0measyocr\u001b[0m\u001b[1;33m\u001b[0m\u001b[1;33m\u001b[0m\u001b[0m\n",
      "\u001b[1;32mc:\\users\\chiman deka\\appdata\\local\\programs\\python\\python39\\lib\\site-packages\\cv2\\__init__.py\u001b[0m in \u001b[0;36m<module>\u001b[1;34m\u001b[0m\n\u001b[0;32m      7\u001b[0m \u001b[1;33m\u001b[0m\u001b[0m\n\u001b[0;32m      8\u001b[0m \u001b[1;32mfrom\u001b[0m \u001b[1;33m.\u001b[0m\u001b[0mcv2\u001b[0m \u001b[1;32mimport\u001b[0m \u001b[1;33m*\u001b[0m\u001b[1;33m\u001b[0m\u001b[1;33m\u001b[0m\u001b[0m\n\u001b[1;32m----> 9\u001b[1;33m \u001b[1;32mfrom\u001b[0m \u001b[1;33m.\u001b[0m\u001b[0mcv2\u001b[0m \u001b[1;32mimport\u001b[0m \u001b[0m_registerMatType\u001b[0m\u001b[1;33m\u001b[0m\u001b[1;33m\u001b[0m\u001b[0m\n\u001b[0m\u001b[0;32m     10\u001b[0m \u001b[1;32mfrom\u001b[0m \u001b[1;33m.\u001b[0m \u001b[1;32mimport\u001b[0m \u001b[0mmat_wrapper\u001b[0m\u001b[1;33m\u001b[0m\u001b[1;33m\u001b[0m\u001b[0m\n\u001b[0;32m     11\u001b[0m \u001b[1;32mfrom\u001b[0m \u001b[1;33m.\u001b[0m \u001b[1;32mimport\u001b[0m \u001b[0mgapi\u001b[0m\u001b[1;33m\u001b[0m\u001b[1;33m\u001b[0m\u001b[0m\n",
      "\u001b[1;31mImportError\u001b[0m: cannot import name '_registerMatType' from 'cv2.cv2' (c:\\users\\chiman deka\\appdata\\local\\programs\\python\\python39\\lib\\site-packages\\cv2\\cv2.cp39-win_amd64.pyd)"
     ]
    }
   ],
   "source": [
    "import cv2\n",
    "from matplotlib import pyplot as plt\n",
    "import numpy as np\n",
    "import imutils\n",
    "import easyocr"
   ]
  },
  {
   "cell_type": "markdown",
   "id": "8ed298a2",
   "metadata": {},
   "source": [
    "# 1. Read in image, Grayscale and Blur"
   ]
  },
  {
   "cell_type": "code",
   "execution_count": null,
   "id": "af01f119",
   "metadata": {},
   "outputs": [],
   "source": [
    "img = cv2.imread('a1.jpg')\n",
    "gray = cv2.cvtColor(img, cv2.COLOR_BGR2GRAY)\n",
    "plt.imshow(cv2.cvtColor(gray, cv2.COLOR_BGR2RGB))"
   ]
  },
  {
   "cell_type": "markdown",
   "id": "35e52a5d",
   "metadata": {},
   "source": [
    "# 2. Apply filter and find edges for localization"
   ]
  },
  {
   "cell_type": "code",
   "execution_count": null,
   "id": "983a0043",
   "metadata": {},
   "outputs": [],
   "source": [
    "bfilter = cv2.bilateralFilter(gray, 11, 17, 17)  # Noise reduction\n",
    "edged = cv2.Canny(bfilter, 30, 200)              # Edge detection\n",
    "plt.imshow(cv2.cvtColor(edged, cv2.COLOR_BGR2RGB))"
   ]
  },
  {
   "cell_type": "markdown",
   "id": "287a35e3",
   "metadata": {},
   "source": [
    "# Find contours and apply mask"
   ]
  },
  {
   "cell_type": "code",
   "execution_count": null,
   "id": "1ace6340",
   "metadata": {},
   "outputs": [],
   "source": [
    "keypoints = cv2.findContours(edged.copy(),cv2.RETR_TREE, cv2.CHAIN_APPROX_SIMPLE)\n",
    "contours = imutils.grab_contours(keypoints)\n",
    "contours = sorted(contours, key=cv2.contourArea, reverse=True)[:10]"
   ]
  },
  {
   "cell_type": "code",
   "execution_count": null,
   "id": "504877c5",
   "metadata": {},
   "outputs": [],
   "source": [
    "location = None\n",
    "for contour in contours:\n",
    "    approx = cv2.approxPolyDP(contour, 10, True)\n",
    "    if len(approx) == 4:\n",
    "        location = approx\n",
    "        break\n",
    "    "
   ]
  },
  {
   "cell_type": "code",
   "execution_count": null,
   "id": "fc9bfe2e",
   "metadata": {},
   "outputs": [],
   "source": [
    "location"
   ]
  },
  {
   "cell_type": "code",
   "execution_count": null,
   "id": "8988a1a9",
   "metadata": {},
   "outputs": [],
   "source": [
    "mask = np.zeros(gray.shape, np.uint8)\n",
    "new_image = cv2.drawContours(mask, [location], 0,255,-1)\n",
    "new_image = cv2.bitwise_and(img, img, mask=mask)"
   ]
  },
  {
   "cell_type": "code",
   "execution_count": null,
   "id": "851f1ac7",
   "metadata": {},
   "outputs": [],
   "source": [
    "plt.imshow(cv2.cvtColor(new_image, cv2.COLOR_BGR2RGB))"
   ]
  },
  {
   "cell_type": "code",
   "execution_count": null,
   "id": "f8b631bf",
   "metadata": {},
   "outputs": [],
   "source": []
  }
 ],
 "metadata": {
  "kernelspec": {
   "display_name": "Python 3 (ipykernel)",
   "language": "python",
   "name": "python3"
  },
  "language_info": {
   "codemirror_mode": {
    "name": "ipython",
    "version": 3
   },
   "file_extension": ".py",
   "mimetype": "text/x-python",
   "name": "python",
   "nbconvert_exporter": "python",
   "pygments_lexer": "ipython3",
   "version": "3.9.5"
  }
 },
 "nbformat": 4,
 "nbformat_minor": 5
}
